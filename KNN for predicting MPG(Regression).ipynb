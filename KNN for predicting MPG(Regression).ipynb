{
 "cells": [
  {
   "cell_type": "markdown",
   "metadata": {},
   "source": [
    "The Problem definition\n",
    "Data = cars.csv(Uploaded in github data part)\n",
    "Predictors = [Cylinders, Weight, Horsepower]\n",
    "Target = MPG\n",
    "\n",
    "You will remove all the observations for which MPG and Horsepower is zero.\n",
    "Do a scaling - do standardization of all the predictors ((X-mean)/sd) [This won't make it standard normal distributed) - This is done beacuse different variables are measured in different scales.\n",
    "\n",
    "Keep aside one random observation from the dataset as test. (DO NOT include that observation for training the algorithm)\n",
    "\n",
    "you need to build a kNN algorithm for regression.\n",
    "\n",
    "kNN(trainX, trainY, testX, k)"
   ]
  },
  {
   "cell_type": "code",
   "execution_count": 115,
   "metadata": {},
   "outputs": [],
   "source": [
    "import os\n",
    "os.getcwd()\n",
    "import pandas as pd\n",
    "from sklearn.preprocessing import StandardScaler "
   ]
  },
  {
   "cell_type": "code",
   "execution_count": 116,
   "metadata": {},
   "outputs": [],
   "source": [
    "# Set the working directory and read the CSV file\n",
    "os.chdir('/Users/vinayashreek/Desktop/DataScience/Praxis/Coding/Praxis/LearningIML/DataSetBySir')\n",
    "cars = pd.read_csv(\"cars.csv\")"
   ]
  },
  {
   "cell_type": "code",
   "execution_count": 117,
   "metadata": {},
   "outputs": [],
   "source": [
    "#Updating selected features and label to the car updated list\n",
    "cars_updated = cars[[\"Cylinders\",\"Weight\",\"Horsepower\",\"MPG\"]]"
   ]
  },
  {
   "cell_type": "code",
   "execution_count": 118,
   "metadata": {},
   "outputs": [
    {
     "name": "stdout",
     "output_type": "stream",
     "text": [
      "MPG :  0.0\n",
      "Horsepower :  0\n"
     ]
    }
   ],
   "source": [
    "#Checking if minimum value of MPG or Horsepower is zero\n",
    "print(\"MPG : \",cars.MPG.min())\n",
    "print(\"Horsepower : \",cars.Horsepower.min())"
   ]
  },
  {
   "cell_type": "code",
   "execution_count": 119,
   "metadata": {},
   "outputs": [],
   "source": [
    "#We find that minimum value of both are zero.Hence we need to remove the rows containing zero in those 2 columns\n",
    "#Lets take only rows where MPG or Horsepower is not zero\n",
    "cars_updated = cars_updated[(cars_updated[['MPG','Horsepower']] != 0).all(axis=1)]"
   ]
  },
  {
   "cell_type": "code",
   "execution_count": 120,
   "metadata": {
    "scrolled": true
   },
   "outputs": [
    {
     "name": "stdout",
     "output_type": "stream",
     "text": [
      "MPG :  9.0\n",
      "Horsepower :  46\n"
     ]
    }
   ],
   "source": [
    "#Lets recheck if minimum value of MPG or Horsepower is still zero\n",
    "print(\"MPG : \",cars_updated.MPG.min())\n",
    "print(\"Horsepower : \",cars_updated.Horsepower.min())"
   ]
  },
  {
   "cell_type": "code",
   "execution_count": 121,
   "metadata": {},
   "outputs": [
    {
     "data": {
      "text/plain": [
       "392"
      ]
     },
     "execution_count": 121,
     "metadata": {},
     "output_type": "execute_result"
    }
   ],
   "source": [
    "#We can confirm that rows with zeros are removed now since min values of both are not zero now\n",
    "#calculating the table length after removng zeros\n",
    "table_length = len(cars_updated)\n",
    "table_length"
   ]
  },
  {
   "cell_type": "code",
   "execution_count": 122,
   "metadata": {},
   "outputs": [
    {
     "data": {
      "text/html": [
       "<div>\n",
       "<style scoped>\n",
       "    .dataframe tbody tr th:only-of-type {\n",
       "        vertical-align: middle;\n",
       "    }\n",
       "\n",
       "    .dataframe tbody tr th {\n",
       "        vertical-align: top;\n",
       "    }\n",
       "\n",
       "    .dataframe thead th {\n",
       "        text-align: right;\n",
       "    }\n",
       "</style>\n",
       "<table border=\"1\" class=\"dataframe\">\n",
       "  <thead>\n",
       "    <tr style=\"text-align: right;\">\n",
       "      <th></th>\n",
       "      <th>Cylinders</th>\n",
       "      <th>Weight</th>\n",
       "      <th>Horsepower</th>\n",
       "      <th>MPG</th>\n",
       "    </tr>\n",
       "  </thead>\n",
       "  <tbody>\n",
       "    <tr>\n",
       "      <th>0</th>\n",
       "      <td>8</td>\n",
       "      <td>3504</td>\n",
       "      <td>130</td>\n",
       "      <td>18.0</td>\n",
       "    </tr>\n",
       "    <tr>\n",
       "      <th>1</th>\n",
       "      <td>8</td>\n",
       "      <td>3693</td>\n",
       "      <td>165</td>\n",
       "      <td>15.0</td>\n",
       "    </tr>\n",
       "    <tr>\n",
       "      <th>2</th>\n",
       "      <td>8</td>\n",
       "      <td>3436</td>\n",
       "      <td>150</td>\n",
       "      <td>18.0</td>\n",
       "    </tr>\n",
       "    <tr>\n",
       "      <th>3</th>\n",
       "      <td>8</td>\n",
       "      <td>3433</td>\n",
       "      <td>150</td>\n",
       "      <td>16.0</td>\n",
       "    </tr>\n",
       "    <tr>\n",
       "      <th>4</th>\n",
       "      <td>8</td>\n",
       "      <td>3449</td>\n",
       "      <td>140</td>\n",
       "      <td>17.0</td>\n",
       "    </tr>\n",
       "  </tbody>\n",
       "</table>\n",
       "</div>"
      ],
      "text/plain": [
       "   Cylinders  Weight  Horsepower   MPG\n",
       "0          8    3504         130  18.0\n",
       "1          8    3693         165  15.0\n",
       "2          8    3436         150  18.0\n",
       "3          8    3433         150  16.0\n",
       "4          8    3449         140  17.0"
      ]
     },
     "execution_count": 122,
     "metadata": {},
     "output_type": "execute_result"
    }
   ],
   "source": [
    "cars_updated.head()"
   ]
  },
  {
   "cell_type": "code",
   "execution_count": 123,
   "metadata": {},
   "outputs": [
    {
     "data": {
      "text/html": [
       "<div>\n",
       "<style scoped>\n",
       "    .dataframe tbody tr th:only-of-type {\n",
       "        vertical-align: middle;\n",
       "    }\n",
       "\n",
       "    .dataframe tbody tr th {\n",
       "        vertical-align: top;\n",
       "    }\n",
       "\n",
       "    .dataframe thead th {\n",
       "        text-align: right;\n",
       "    }\n",
       "</style>\n",
       "<table border=\"1\" class=\"dataframe\">\n",
       "  <thead>\n",
       "    <tr style=\"text-align: right;\">\n",
       "      <th></th>\n",
       "      <th>Cylinders</th>\n",
       "      <th>Weight</th>\n",
       "      <th>Horsepower</th>\n",
       "    </tr>\n",
       "  </thead>\n",
       "  <tbody>\n",
       "    <tr>\n",
       "      <th>1</th>\n",
       "      <td>8</td>\n",
       "      <td>3693</td>\n",
       "      <td>165</td>\n",
       "    </tr>\n",
       "    <tr>\n",
       "      <th>2</th>\n",
       "      <td>8</td>\n",
       "      <td>3436</td>\n",
       "      <td>150</td>\n",
       "    </tr>\n",
       "    <tr>\n",
       "      <th>3</th>\n",
       "      <td>8</td>\n",
       "      <td>3433</td>\n",
       "      <td>150</td>\n",
       "    </tr>\n",
       "    <tr>\n",
       "      <th>4</th>\n",
       "      <td>8</td>\n",
       "      <td>3449</td>\n",
       "      <td>140</td>\n",
       "    </tr>\n",
       "    <tr>\n",
       "      <th>5</th>\n",
       "      <td>8</td>\n",
       "      <td>4341</td>\n",
       "      <td>198</td>\n",
       "    </tr>\n",
       "  </tbody>\n",
       "</table>\n",
       "</div>"
      ],
      "text/plain": [
       "   Cylinders  Weight  Horsepower\n",
       "1          8    3693         165\n",
       "2          8    3436         150\n",
       "3          8    3433         150\n",
       "4          8    3449         140\n",
       "5          8    4341         198"
      ]
     },
     "execution_count": 123,
     "metadata": {},
     "output_type": "execute_result"
    }
   ],
   "source": [
    "#Choosing the train set.Here I am taking from second row till the end \n",
    "#Features I am using are given as a second parameter in loc\n",
    "trainX = cars_updated.loc[1:392,[\"Cylinders\",\"Weight\",\"Horsepower\"]]\n",
    "trainX.head()"
   ]
  },
  {
   "cell_type": "code",
   "execution_count": 124,
   "metadata": {},
   "outputs": [
    {
     "data": {
      "text/plain": [
       "1    15.0\n",
       "2    18.0\n",
       "3    16.0\n",
       "4    17.0\n",
       "5    15.0\n",
       "Name: MPG, dtype: float64"
      ]
     },
     "execution_count": 124,
     "metadata": {},
     "output_type": "execute_result"
    }
   ],
   "source": [
    "#This is the label of the training set.Label for all the training set rows are givem\n",
    "trainY = cars_updated.MPG[1:392]\n",
    "trainY.head()"
   ]
  },
  {
   "cell_type": "code",
   "execution_count": 125,
   "metadata": {
    "scrolled": true
   },
   "outputs": [
    {
     "data": {
      "text/plain": [
       "Cylinders        8.0\n",
       "Weight        3504.0\n",
       "Horsepower     130.0\n",
       "Name: 0, dtype: float64"
      ]
     },
     "execution_count": 125,
     "metadata": {},
     "output_type": "execute_result"
    }
   ],
   "source": [
    "#Choosing the test set.Here I am taking only the first row as my test set \n",
    "#Features I am using are given as a second parameter in loc\n",
    "test = cars_updated.loc[0,[\"Cylinders\",\"Weight\",\"Horsepower\"]]\n",
    "test.head()"
   ]
  },
  {
   "cell_type": "code",
   "execution_count": 126,
   "metadata": {},
   "outputs": [
    {
     "data": {
      "text/html": [
       "<div>\n",
       "<style scoped>\n",
       "    .dataframe tbody tr th:only-of-type {\n",
       "        vertical-align: middle;\n",
       "    }\n",
       "\n",
       "    .dataframe tbody tr th {\n",
       "        vertical-align: top;\n",
       "    }\n",
       "\n",
       "    .dataframe thead th {\n",
       "        text-align: right;\n",
       "    }\n",
       "</style>\n",
       "<table border=\"1\" class=\"dataframe\">\n",
       "  <thead>\n",
       "    <tr style=\"text-align: right;\">\n",
       "      <th></th>\n",
       "      <th>Cylinders</th>\n",
       "      <th>Weight</th>\n",
       "      <th>Horsepower</th>\n",
       "      <th>MPG</th>\n",
       "    </tr>\n",
       "  </thead>\n",
       "  <tbody>\n",
       "    <tr>\n",
       "      <th>0</th>\n",
       "      <td>1.483947</td>\n",
       "      <td>0.620540</td>\n",
       "      <td>0.664133</td>\n",
       "      <td>-0.698638</td>\n",
       "    </tr>\n",
       "    <tr>\n",
       "      <th>1</th>\n",
       "      <td>1.483947</td>\n",
       "      <td>0.843334</td>\n",
       "      <td>1.574594</td>\n",
       "      <td>-1.083498</td>\n",
       "    </tr>\n",
       "    <tr>\n",
       "      <th>2</th>\n",
       "      <td>1.483947</td>\n",
       "      <td>0.540382</td>\n",
       "      <td>1.184397</td>\n",
       "      <td>-0.698638</td>\n",
       "    </tr>\n",
       "    <tr>\n",
       "      <th>3</th>\n",
       "      <td>1.483947</td>\n",
       "      <td>0.536845</td>\n",
       "      <td>1.184397</td>\n",
       "      <td>-0.955212</td>\n",
       "    </tr>\n",
       "    <tr>\n",
       "      <th>4</th>\n",
       "      <td>1.483947</td>\n",
       "      <td>0.555706</td>\n",
       "      <td>0.924265</td>\n",
       "      <td>-0.826925</td>\n",
       "    </tr>\n",
       "  </tbody>\n",
       "</table>\n",
       "</div>"
      ],
      "text/plain": [
       "   Cylinders    Weight  Horsepower       MPG\n",
       "0   1.483947  0.620540    0.664133 -0.698638\n",
       "1   1.483947  0.843334    1.574594 -1.083498\n",
       "2   1.483947  0.540382    1.184397 -0.698638\n",
       "3   1.483947  0.536845    1.184397 -0.955212\n",
       "4   1.483947  0.555706    0.924265 -0.826925"
      ]
     },
     "execution_count": 126,
     "metadata": {},
     "output_type": "execute_result"
    }
   ],
   "source": [
    "#I used following library to standardize all the predictors of car_updated and put it in a new copy of the data frame called S_cars_updated\n",
    "from sklearn.preprocessing import StandardScaler\n",
    "S_cars_updated = cars_updated.copy()\n",
    "S_cars_updated[['Cylinders', 'Weight','Horsepower','MPG']] = StandardScaler().fit_transform(S_cars_updated[['Cylinders', 'Weight','Horsepower','MPG']])\n",
    "S_cars_updated.head()"
   ]
  },
  {
   "cell_type": "code",
   "execution_count": 141,
   "metadata": {},
   "outputs": [
    {
     "name": "stdout",
     "output_type": "stream",
     "text": [
      "   Cylinders    Weight  Horsepower\n",
      "1   1.483947  0.843334    1.574594\n",
      "2   1.483947  0.540382    1.184397\n",
      "3   1.483947  0.536845    1.184397\n",
      "4   1.483947  0.555706    0.924265\n",
      "5   1.483947  1.607198    2.433030\n",
      "<bound method NDFrame.head of Cylinders     1.483947\n",
      "Weight        0.620540\n",
      "Horsepower    0.664133\n",
      "Name: 0, dtype: float64>\n"
     ]
    }
   ],
   "source": [
    "#Assigning the standardised values of training and test set to the follwing names\n",
    "S_trainX = S_cars_updated.loc[1:392,[\"Cylinders\",\"Weight\",\"Horsepower\"]]\n",
    "S_test = S_cars_updated.loc[0,[\"Cylinders\",\"Weight\",\"Horsepower\"]]\n",
    "print(S_trainX.head())\n",
    "print(S_test.head)"
   ]
  },
  {
   "cell_type": "code",
   "execution_count": 128,
   "metadata": {},
   "outputs": [
    {
     "name": "stdout",
     "output_type": "stream",
     "text": [
      "standardized value from above table using code 1.483947024779763\n",
      "standardized value via calculation 1.4745298834014493\n"
     ]
    }
   ],
   "source": [
    "#Just confirming if standardization has been applied by taking first value of cylinders and comparing it with hand calculated value\n",
    "M=cars.Cylinders.mean()\n",
    "S=cars.Cylinders.std()\n",
    "print(\"standardized value from above table using code\",S_cars_updated.Cylinders[0])\n",
    "print(\"standardized value via calculation\",(cars.Cylinders[0]-M)/S)\n"
   ]
  },
  {
   "cell_type": "code",
   "execution_count": 129,
   "metadata": {},
   "outputs": [],
   "source": [
    "#Used the following libraries to calculate the euclidean distance\n",
    "from scipy.spatial import distance\n",
    "import numpy as np\n",
    "#Function for calculating the knn given the features in train set as train_x\n",
    "#label in train set as train y,test set as test (Passing the standardised predictors)\n",
    "def knn(train_x,train_y, test, k):\n",
    "    dist = []\n",
    "    for i in range(0, len(train_x)):\n",
    "        dist.append(distance.euclidean(test, train_x.iloc[i,[0,1,2]]))\n",
    "\n",
    "    dist_copy = dist.copy()\n",
    "    dist.sort()\n",
    "    index = []\n",
    "    for i in range(0,k):\n",
    "        indx = dist_copy.index(dist[i])\n",
    "        index.append(indx)\n",
    "        dist_copy[indx] = -1\n",
    "    pred_y = np.mean(train_y.iloc[index])\n",
    "    return(pred_y)"
   ]
  },
  {
   "cell_type": "code",
   "execution_count": 136,
   "metadata": {},
   "outputs": [
    {
     "data": {
      "text/plain": [
       "17.733333333333334"
      ]
     },
     "execution_count": 136,
     "metadata": {},
     "output_type": "execute_result"
    }
   ],
   "source": [
    "#Finally finding the label for the test set using the train_x and train_y\n",
    "#Different values of K gives the value with different accuracy.\n",
    "#I have used k = 6\n",
    "knn(S_trainX,trainY,S_test,k=6)"
   ]
  },
  {
   "cell_type": "markdown",
   "metadata": {},
   "source": [
    "<b>The expected value was 18\n",
    "Our model with k=6 predicted 17.7333333\n",
    "Thats pretty good:)</b>"
   ]
  },
  {
   "cell_type": "code",
   "execution_count": null,
   "metadata": {},
   "outputs": [],
   "source": []
  },
  {
   "cell_type": "code",
   "execution_count": null,
   "metadata": {},
   "outputs": [],
   "source": []
  }
 ],
 "metadata": {
  "kernelspec": {
   "display_name": "Python 3",
   "language": "python",
   "name": "python3"
  },
  "language_info": {
   "codemirror_mode": {
    "name": "ipython",
    "version": 3
   },
   "file_extension": ".py",
   "mimetype": "text/x-python",
   "name": "python",
   "nbconvert_exporter": "python",
   "pygments_lexer": "ipython3",
   "version": "3.8.3"
  }
 },
 "nbformat": 4,
 "nbformat_minor": 4
}
